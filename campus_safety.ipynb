{
 "cells": [
  {
   "cell_type": "markdown",
   "metadata": {},
   "source": [
    "<h1 style=\"text-align: center\">\n",
    "<div style=\"color:   #FF4500; font-size: 60%\">ATLAS INTERNSHIP - SUMMER 2024</div>\n",
    "<span style=\"\">Project: Campus Safety</span>\n",
    "<div style=\"font-size: 60%;\"><a href=\"https://police.illinois.edu/info/daily-crime-log/\">https://police.illinois.edu/info/daily-crime-log/</a></div>\n",
    "</h1>\n",
    "\n",
    "<hr style=\"color:   #FF4500;\">"
   ]
  },
  {
   "cell_type": "markdown",
   "metadata": {},
   "source": [
    "## Section 1: Dataset"
   ]
  },
  {
   "cell_type": "markdown",
   "metadata": {},
   "source": [
    "### Loading the Dataset\n",
    "\n",
    "Now, let's load the dataset into a DataFrame for our analysis. The dataset is in CSV format and can be imported using the pandas library to work with the data."
   ]
  },
  {
   "cell_type": "code",
   "execution_count": 15,
   "metadata": {},
   "outputs": [
    {
     "data": {
      "text/html": [
       "<div>\n",
       "<style scoped>\n",
       "    .dataframe tbody tr th:only-of-type {\n",
       "        vertical-align: middle;\n",
       "    }\n",
       "\n",
       "    .dataframe tbody tr th {\n",
       "        vertical-align: top;\n",
       "    }\n",
       "\n",
       "    .dataframe thead th {\n",
       "        text-align: right;\n",
       "    }\n",
       "</style>\n",
       "<table border=\"1\" class=\"dataframe\">\n",
       "  <thead>\n",
       "    <tr style=\"text-align: right;\">\n",
       "      <th></th>\n",
       "      <th>Number</th>\n",
       "      <th>Reported Date/Time</th>\n",
       "      <th>Occurred From Date/Time</th>\n",
       "      <th>Location</th>\n",
       "      <th>Description</th>\n",
       "      <th>Disposition</th>\n",
       "    </tr>\n",
       "  </thead>\n",
       "  <tbody>\n",
       "    <tr>\n",
       "      <th>0</th>\n",
       "      <td>2024-00006988</td>\n",
       "      <td>04/22/2024 16:19</td>\n",
       "      <td>03/31/2024 16:21</td>\n",
       "      <td>51 E John St, Champaign</td>\n",
       "      <td>THEFT-&lt;$500</td>\n",
       "      <td>Administratively Closed</td>\n",
       "    </tr>\n",
       "    <tr>\n",
       "      <th>1</th>\n",
       "      <td>2024-00006998</td>\n",
       "      <td>04/22/2024 18:02</td>\n",
       "      <td>04/22/2024 18:02</td>\n",
       "      <td>1401 W Green St, Urbana</td>\n",
       "      <td>DISORDERLY CONDUCT-ALL OTHER</td>\n",
       "      <td>Administratively Closed</td>\n",
       "    </tr>\n",
       "    <tr>\n",
       "      <th>2</th>\n",
       "      <td>2024-00007034</td>\n",
       "      <td>04/23/2024 04:17</td>\n",
       "      <td>04/23/2024 04:00</td>\n",
       "      <td>1804 S Neil St, Champaign</td>\n",
       "      <td>BURGLARY-BUILDING</td>\n",
       "      <td>Cleared by Arrest, Juvenile</td>\n",
       "    </tr>\n",
       "    <tr>\n",
       "      <th>3</th>\n",
       "      <td>2024-00007034</td>\n",
       "      <td>04/23/2024 04:17</td>\n",
       "      <td>04/23/2024 04:00</td>\n",
       "      <td>1804 S Neil St, Champaign</td>\n",
       "      <td>CRIMINAL DAMAGE TO PROPERTY</td>\n",
       "      <td>Cleared by Arrest, Juvenile</td>\n",
       "    </tr>\n",
       "    <tr>\n",
       "      <th>4</th>\n",
       "      <td>2024-00007045</td>\n",
       "      <td>04/23/2024 09:34</td>\n",
       "      <td>04/22/2024 16:00</td>\n",
       "      <td>1301 Springfield Av, Urbana</td>\n",
       "      <td>MOTOR VEHICLE THEFT</td>\n",
       "      <td>Cleared by Arrest, Juvenile</td>\n",
       "    </tr>\n",
       "    <tr>\n",
       "      <th>...</th>\n",
       "      <td>...</td>\n",
       "      <td>...</td>\n",
       "      <td>...</td>\n",
       "      <td>...</td>\n",
       "      <td>...</td>\n",
       "      <td>...</td>\n",
       "    </tr>\n",
       "    <tr>\n",
       "      <th>360</th>\n",
       "      <td>CSA24-088</td>\n",
       "      <td>6/3/24 13:19</td>\n",
       "      <td>FEBRUARY 2024 - MAY 2024</td>\n",
       "      <td>ON CAMPUS</td>\n",
       "      <td>STALKING</td>\n",
       "      <td>ADMIN CLOSED</td>\n",
       "    </tr>\n",
       "    <tr>\n",
       "      <th>361</th>\n",
       "      <td>FI24002716</td>\n",
       "      <td>6/5/24 5:50</td>\n",
       "      <td>6/5/24 5:50</td>\n",
       "      <td>1301 SPRINGFIELD AV, URBANA</td>\n",
       "      <td>CRIMINAL DAMAGE</td>\n",
       "      <td>ADMIN CLOSED</td>\n",
       "    </tr>\n",
       "    <tr>\n",
       "      <th>362</th>\n",
       "      <td>CSA24-090</td>\n",
       "      <td>6/6/24 14:42</td>\n",
       "      <td>9/8/2023 UNKNOWN</td>\n",
       "      <td>ON CAMPUS RES HALL</td>\n",
       "      <td>RAPE</td>\n",
       "      <td>ADMIN CLOSED</td>\n",
       "    </tr>\n",
       "    <tr>\n",
       "      <th>363</th>\n",
       "      <td>CSA24-092</td>\n",
       "      <td>6/6/24 16:22</td>\n",
       "      <td>2020-2024 UNKNOWN</td>\n",
       "      <td>ON CAMPUS</td>\n",
       "      <td>STALKING</td>\n",
       "      <td>ADMIN CLOSED</td>\n",
       "    </tr>\n",
       "    <tr>\n",
       "      <th>364</th>\n",
       "      <td>CSA24-091</td>\n",
       "      <td>6/7/24 11:24</td>\n",
       "      <td>UNKNOWN</td>\n",
       "      <td>ON CAMPUS</td>\n",
       "      <td>STALKING</td>\n",
       "      <td>ADMIN CLOSED</td>\n",
       "    </tr>\n",
       "  </tbody>\n",
       "</table>\n",
       "<p>365 rows × 6 columns</p>\n",
       "</div>"
      ],
      "text/plain": [
       "            Number Reported Date/Time   Occurred From Date/Time  \\\n",
       "0    2024-00006988   04/22/2024 16:19          03/31/2024 16:21   \n",
       "1    2024-00006998   04/22/2024 18:02          04/22/2024 18:02   \n",
       "2    2024-00007034   04/23/2024 04:17          04/23/2024 04:00   \n",
       "3    2024-00007034   04/23/2024 04:17          04/23/2024 04:00   \n",
       "4    2024-00007045   04/23/2024 09:34          04/22/2024 16:00   \n",
       "..             ...                ...                       ...   \n",
       "360      CSA24-088       6/3/24 13:19  FEBRUARY 2024 - MAY 2024   \n",
       "361     FI24002716        6/5/24 5:50               6/5/24 5:50   \n",
       "362      CSA24-090       6/6/24 14:42          9/8/2023 UNKNOWN   \n",
       "363      CSA24-092       6/6/24 16:22         2020-2024 UNKNOWN   \n",
       "364      CSA24-091       6/7/24 11:24                   UNKNOWN   \n",
       "\n",
       "                        Location                   Description  \\\n",
       "0        51 E John St, Champaign                   THEFT-<$500   \n",
       "1        1401 W Green St, Urbana  DISORDERLY CONDUCT-ALL OTHER   \n",
       "2      1804 S Neil St, Champaign             BURGLARY-BUILDING   \n",
       "3      1804 S Neil St, Champaign   CRIMINAL DAMAGE TO PROPERTY   \n",
       "4    1301 Springfield Av, Urbana           MOTOR VEHICLE THEFT   \n",
       "..                           ...                           ...   \n",
       "360                    ON CAMPUS                      STALKING   \n",
       "361  1301 SPRINGFIELD AV, URBANA               CRIMINAL DAMAGE   \n",
       "362           ON CAMPUS RES HALL                          RAPE   \n",
       "363                    ON CAMPUS                      STALKING   \n",
       "364                    ON CAMPUS                      STALKING   \n",
       "\n",
       "                     Disposition  \n",
       "0        Administratively Closed  \n",
       "1        Administratively Closed  \n",
       "2    Cleared by Arrest, Juvenile  \n",
       "3    Cleared by Arrest, Juvenile  \n",
       "4    Cleared by Arrest, Juvenile  \n",
       "..                           ...  \n",
       "360                 ADMIN CLOSED  \n",
       "361                 ADMIN CLOSED  \n",
       "362                 ADMIN CLOSED  \n",
       "363                 ADMIN CLOSED  \n",
       "364                 ADMIN CLOSED  \n",
       "\n",
       "[365 rows x 6 columns]"
      ]
     },
     "execution_count": 15,
     "metadata": {},
     "output_type": "execute_result"
    }
   ],
   "source": [
    "import pandas as pd\n",
    "import matplotlib.pyplot as plt\n",
    "from dateutil import parser\n",
    "\n",
    "#Importing the daily crime log dataset of University of Illinois Urbana- Champaign\n",
    "data= pd.read_csv(\"dailyCrimeLog.csv\")\n",
    "data"
   ]
  },
  {
   "cell_type": "markdown",
   "metadata": {},
   "source": [
    "#### DATA CLEANUP"
   ]
  },
  {
   "cell_type": "markdown",
   "metadata": {},
   "source": [
    "I will be using DataFrame. dropna() to remove missing data from the data frame."
   ]
  },
  {
   "cell_type": "code",
   "execution_count": 16,
   "metadata": {},
   "outputs": [
    {
     "data": {
      "text/html": [
       "<div>\n",
       "<style scoped>\n",
       "    .dataframe tbody tr th:only-of-type {\n",
       "        vertical-align: middle;\n",
       "    }\n",
       "\n",
       "    .dataframe tbody tr th {\n",
       "        vertical-align: top;\n",
       "    }\n",
       "\n",
       "    .dataframe thead th {\n",
       "        text-align: right;\n",
       "    }\n",
       "</style>\n",
       "<table border=\"1\" class=\"dataframe\">\n",
       "  <thead>\n",
       "    <tr style=\"text-align: right;\">\n",
       "      <th></th>\n",
       "      <th>Number</th>\n",
       "      <th>Reported Date/Time</th>\n",
       "      <th>Occurred From Date/Time</th>\n",
       "      <th>Location</th>\n",
       "      <th>Description</th>\n",
       "      <th>Disposition</th>\n",
       "    </tr>\n",
       "  </thead>\n",
       "  <tbody>\n",
       "    <tr>\n",
       "      <th>0</th>\n",
       "      <td>2024-00006988</td>\n",
       "      <td>2024-04-22 16:19:00</td>\n",
       "      <td>2024-03-31 16:21:00</td>\n",
       "      <td>51 E John St, Champaign</td>\n",
       "      <td>THEFT-&lt;$500</td>\n",
       "      <td>Administratively Closed</td>\n",
       "    </tr>\n",
       "    <tr>\n",
       "      <th>1</th>\n",
       "      <td>2024-00006998</td>\n",
       "      <td>2024-04-22 18:02:00</td>\n",
       "      <td>2024-04-22 18:02:00</td>\n",
       "      <td>1401 W Green St, Urbana</td>\n",
       "      <td>DISORDERLY CONDUCT-ALL OTHER</td>\n",
       "      <td>Administratively Closed</td>\n",
       "    </tr>\n",
       "    <tr>\n",
       "      <th>2</th>\n",
       "      <td>2024-00007034</td>\n",
       "      <td>2024-04-23 04:17:00</td>\n",
       "      <td>2024-04-23 04:00:00</td>\n",
       "      <td>1804 S Neil St, Champaign</td>\n",
       "      <td>BURGLARY-BUILDING</td>\n",
       "      <td>Cleared by Arrest, Juvenile</td>\n",
       "    </tr>\n",
       "    <tr>\n",
       "      <th>3</th>\n",
       "      <td>2024-00007034</td>\n",
       "      <td>2024-04-23 04:17:00</td>\n",
       "      <td>2024-04-23 04:00:00</td>\n",
       "      <td>1804 S Neil St, Champaign</td>\n",
       "      <td>CRIMINAL DAMAGE TO PROPERTY</td>\n",
       "      <td>Cleared by Arrest, Juvenile</td>\n",
       "    </tr>\n",
       "    <tr>\n",
       "      <th>4</th>\n",
       "      <td>2024-00007045</td>\n",
       "      <td>2024-04-23 09:34:00</td>\n",
       "      <td>2024-04-22 16:00:00</td>\n",
       "      <td>1301 Springfield Av, Urbana</td>\n",
       "      <td>MOTOR VEHICLE THEFT</td>\n",
       "      <td>Cleared by Arrest, Juvenile</td>\n",
       "    </tr>\n",
       "  </tbody>\n",
       "</table>\n",
       "</div>"
      ],
      "text/plain": [
       "          Number  Reported Date/Time Occurred From Date/Time  \\\n",
       "0  2024-00006988 2024-04-22 16:19:00     2024-03-31 16:21:00   \n",
       "1  2024-00006998 2024-04-22 18:02:00     2024-04-22 18:02:00   \n",
       "2  2024-00007034 2024-04-23 04:17:00     2024-04-23 04:00:00   \n",
       "3  2024-00007034 2024-04-23 04:17:00     2024-04-23 04:00:00   \n",
       "4  2024-00007045 2024-04-23 09:34:00     2024-04-22 16:00:00   \n",
       "\n",
       "                      Location                   Description  \\\n",
       "0      51 E John St, Champaign                   THEFT-<$500   \n",
       "1      1401 W Green St, Urbana  DISORDERLY CONDUCT-ALL OTHER   \n",
       "2    1804 S Neil St, Champaign             BURGLARY-BUILDING   \n",
       "3    1804 S Neil St, Champaign   CRIMINAL DAMAGE TO PROPERTY   \n",
       "4  1301 Springfield Av, Urbana           MOTOR VEHICLE THEFT   \n",
       "\n",
       "                   Disposition  \n",
       "0      Administratively Closed  \n",
       "1      Administratively Closed  \n",
       "2  Cleared by Arrest, Juvenile  \n",
       "3  Cleared by Arrest, Juvenile  \n",
       "4  Cleared by Arrest, Juvenile  "
      ]
     },
     "execution_count": 16,
     "metadata": {},
     "output_type": "execute_result"
    }
   ],
   "source": [
    "crime_data=pd.read_csv(\"dailyCrimeLog.csv\")\n",
    "#Clean up the reported date column\n",
    "crime_data['Reported Date/Time'] = pd.to_datetime(crime_data['Reported Date/Time'],errors='coerce')\n",
    "crime_data.dropna(subset=['Reported Date/Time'],inplace=True)\n",
    "\n",
    "#Clean up the occured date column\n",
    "crime_data['Occurred From Date/Time'] = pd.to_datetime(crime_data['Occurred From Date/Time'],errors='coerce')\n",
    "crime_data.dropna(subset=['Occurred From Date/Time'],inplace=True)\n",
    "\n",
    "#Clean up the location column\n",
    "crime_data.dropna(subset=[\"Location\"], inplace=True)\n",
    "\n",
    "#Clean up the Description column\n",
    "crime_data.dropna(subset=[\"Description\"], inplace=True)\n",
    "\n",
    "crime_data.head()"
   ]
  },
  {
   "cell_type": "markdown",
   "metadata": {},
   "source": [
    "## Section 2: Exploratory Data Analysis"
   ]
  },
  {
   "cell_type": "markdown",
   "metadata": {},
   "source": [
    "**Finding what hour has the most incidents**"
   ]
  },
  {
   "cell_type": "code",
   "execution_count": 17,
   "metadata": {},
   "outputs": [
    {
     "name": "stdout",
     "output_type": "stream",
     "text": [
      "The hour with the most incidents is: 17 with 26 incidents.\n"
     ]
    },
    {
     "data": {
      "image/png": "[encoded data removed]",
      "text/plain": [
       "<Figure size 1000x600 with 1 Axes>"
      ]
     },
     "metadata": {},
     "output_type": "display_data"
    }
   ],
   "source": [
    "import pandas as pd\n",
    "from dateutil import parser\n",
    "import matplotlib.pyplot as plt\n",
    "\n",
    "# Function to parse dates\n",
    "def parse_date(date_str):\n",
    "    try:\n",
    "        if not date_str or pd.isna(date_str):\n",
    "            return None\n",
    "        return parser.parse(date_str)\n",
    "    except ValueError:\n",
    "        return None\n",
    "\n",
    "# Parse 'Occurred From Date/Time'\n",
    "data['Occurred_From_DateTime'] = data['Occurred From Date/Time'].apply(parse_date)\n",
    "\n",
    "# Filter data for the date range 2022-2024 and make an explicit copy to avoid the SettingWithCopyWarning\n",
    "filtered_data = data[(data['Occurred_From_DateTime'].notna()) & \n",
    "                     (data['Occurred_From_DateTime'].dt.year >= 2020) & \n",
    "                     (data['Occurred_From_DateTime'].dt.year <= 2024)].copy()\n",
    "\n",
    "# Extract the hour from the 'Occurred_From_DateTime' column\n",
    "filtered_data['Occurred_Hour'] = filtered_data['Occurred_From_DateTime'].dt.hour\n",
    "\n",
    "# Count the number of incidents per hour\n",
    "hourly_incidents = filtered_data.groupby('Occurred_Hour').size().reset_index(name='Incident_Count')\n",
    "\n",
    "# Identify the hour with the most incidents\n",
    "most_incidents_hour = hourly_incidents.loc[hourly_incidents['Incident_Count'].idxmax()]\n",
    "\n",
    "# Display the hour with the most incidents\n",
    "print(f\"The hour with the most incidents is: {most_incidents_hour['Occurred_Hour']} with {most_incidents_hour['Incident_Count']} incidents.\")\n",
    "\n",
    "# Plot the number of incidents per hour\n",
    "plt.figure(figsize=(10,6))\n",
    "plt.bar(hourly_incidents[\"Occurred_Hour\"], hourly_incidents[\"Incident_Count\"], color=\"Black\")\n",
    "plt.xlabel(\"Hour of the Day\")\n",
    "plt.ylabel(\"Number of Incidents\")\n",
    "plt.title(\"Number of Incidents by Hour of the Day (2020-2024)\")\n",
    "plt.xticks(range(24))\n",
    "plt.grid(axis='y', linestyle='--', alpha=0.7)\n",
    "\n",
    "# Annotate bars with incident counts\n",
    "for i, count in enumerate(hourly_incidents[\"Incident_Count\"]):\n",
    "    plt.text(hourly_incidents[\"Occurred_Hour\"].iloc[i], count, str(count), ha='center', va='bottom')\n",
    "\n",
    "plt.show()\n"
   ]
  },
  {
   "cell_type": "markdown",
   "metadata": {},
   "source": [
    "## Section 3: Exploratory Data Analysis"
   ]
  },
  {
   "cell_type": "markdown",
   "metadata": {},
   "source": [
    "**Finding Most Frequent Incident**"
   ]
  },
  {
   "cell_type": "code",
   "execution_count": 18,
   "metadata": {},
   "outputs": [
    {
     "name": "stdout",
     "output_type": "stream",
     "text": [
      "The most frequent incident type is: CRIMINAL DAMAGE TO PROPERTY with 40 occurrences.\n"
     ]
    },
    {
     "data": {
      "image/png": "[encoded data removed]",
      "text/plain": [
       "<Figure size 1000x600 with 1 Axes>"
      ]
     },
     "metadata": {},
     "output_type": "display_data"
    }
   ],
   "source": [
    "if 'Occurred_From_DateTime' not in data.columns:\n",
    "    print(\"Error: Column 'Occurred_From_DateTime' does not excist\")\n",
    "else:\n",
    "    #filter data for the year range 2020-2024\n",
    "    filtered_data=data[(data['Occurred_From_DateTime'].notna())&\n",
    "                       (data['Occurred_From_DateTime'].dt.year >=2020)&\n",
    "                       (data['Occurred_From_DateTime'].dt.year <= 2024)]\n",
    "    \n",
    "    #count the number of incidents by type\n",
    "    incident_counts = filtered_data['Description'].value_counts().reset_index()\n",
    "    incident_counts.columns = ['Incident_Type', 'Incident_Count']\n",
    "\n",
    "    #Identify the most frequent incodent type\n",
    "    most_frequent_incident= incident_counts.iloc[0]\n",
    "\n",
    "    #Display the most frequant incident type.\n",
    "    print(f\"The most frequent incident type is: { most_frequent_incident['Incident_Type']} with { most_frequent_incident['Incident_Count']} occurrences.\")\n",
    "\n",
    "   #Plot the data.\n",
    "    plt.figure(figsize=(10,6))\n",
    "    plt.bar(incident_counts['Incident_Type'], incident_counts['Incident_Count'], color='black')\n",
    "    plt.xlabel(\"Incident Type\")\n",
    "    plt.ylabel(\"Number of Incidents\")\n",
    "    plt.title(\"Number of Incidents by Type (2020 - 2024)\")\n",
    "    plt.xticks(range(24))\n",
    "    plt.grid(axis='y', linestyle='--', alpha=0.7)\n",
    "    "
   ]
  },
  {
   "cell_type": "markdown",
   "metadata": {},
   "source": [
    "## Section 4: Exploratory Data Analysis"
   ]
  },
  {
   "cell_type": "markdown",
   "metadata": {},
   "source": [
    "**Finding the Location with Most Frequent Incident**"
   ]
  },
  {
   "cell_type": "code",
   "execution_count": 19,
   "metadata": {},
   "outputs": [],
   "source": [
    "if 'Occurred_From_DateTime' not in data.columns:\n",
    "    print(\"Error: Column 'Occurred_From_DateTime' does not excist\")\n",
    "else:\n",
    "    #filter data for the year range 2020-2024\n",
    "    filtered_data=data[(data['Occurred_From_DateTime'].notna())&\n",
    "                       (data['Occurred_From_DateTime'].dt.year >=2020)&\n",
    "                       (data['Occurred_From_DateTime'].dt.year <= 2024)]\n",
    "\n",
    "#count the number of incidents by location- road\n",
    "location_counts= filtered_data['Location'].value_counts().reset_index()\n",
    "location_counts.columns= ['Location', 'Incident_Count']"
   ]
  },
  {
   "cell_type": "markdown",
   "metadata": {},
   "source": [
    "## Section 5: Exploratory Data Analysis"
   ]
  },
  {
   "cell_type": "markdown",
   "metadata": {},
   "source": []
  }
 ],
 "metadata": {
  "kernelspec": {
   "display_name": "Python 3",
   "language": "python",
   "name": "python3"
  },
  "language_info": {
   "codemirror_mode": {
    "name": "ipython",
    "version": 3
   },
   "file_extension": ".py",
   "mimetype": "text/x-python",
   "name": "python",
   "nbconvert_exporter": "python",
   "pygments_lexer": "ipython3",
   "version": "3.11.5"
  }
 },
 "nbformat": 4,
 "nbformat_minor": 2
}
